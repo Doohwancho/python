{
 "cells": [
  {
   "cell_type": "code",
   "execution_count": null,
   "id": "fcfd856f",
   "metadata": {},
   "outputs": [],
   "source": [
    "from sklearn.decomposition import PCA\n",
    "\n",
    "# Generate random 3D+ data (100 samples, 3 features)\n",
    "np.random.seed(42)\n",
    "data_3d = np.random.rand(100, 3) * 10\n",
    "\n",
    "# Step 1: Represent data as a matrix\n",
    "# The data_3d is already in a matrix form where each row is a sample and each column is a feature.\n",
    "# For example: [x1, x2, x3]\n",
    "\n",
    "# Step 2: Apply PCA to reduce dimensions to 2D for visualization\n",
    "pca = PCA(n_components=2)\n",
    "data_2d = pca.fit_transform(data_3d)\n",
    "\n",
    "# Step 3: Visualize original 3D data and 2D projection\n",
    "fig = plt.figure(figsize=(16, 6))\n",
    "\n",
    "# 3D Visualization (Original Data)\n",
    "ax1 = fig.add_subplot(121, projection='3d')\n",
    "ax1.scatter(data_3d[:, 0], data_3d[:, 1], data_3d[:, 2], color='blue', alpha=0.7)\n",
    "ax1.set_title(\"Original 3D Data\")\n",
    "ax1.set_xlabel(\"X1\")\n",
    "ax1.set_ylabel(\"X2\")\n",
    "ax1.set_zlabel(\"X3\")\n",
    "\n",
    "# 2D Visualization (Projected Data)\n",
    "ax2 = fig.add_subplot(122)\n",
    "ax2.scatter(data_2d[:, 0], data_2d[:, 1], color='green', alpha=0.7)\n",
    "ax2.set_title(\"2D Projection using PCA\")\n",
    "ax2.set_xlabel(\"Principal Component 1\")\n",
    "ax2.set_ylabel(\"Principal Component 2\")\n",
    "\n",
    "plt.show()\n",
    "\n",
    "# Step 4: Display the transformation matrices\n",
    "components = pca.components_\n",
    "explained_variance = pca.explained_variance_ratio_\n",
    "\n",
    "components, explained_variance\n"
   ]
  }
 ],
 "metadata": {
  "kernelspec": {
   "display_name": "Python 3 (ipykernel)",
   "language": "python",
   "name": "python3"
  },
  "language_info": {
   "codemirror_mode": {
    "name": "ipython",
    "version": 3
   },
   "file_extension": ".py",
   "mimetype": "text/x-python",
   "name": "python",
   "nbconvert_exporter": "python",
   "pygments_lexer": "ipython3",
   "version": "3.8.13"
  }
 },
 "nbformat": 4,
 "nbformat_minor": 5
}
